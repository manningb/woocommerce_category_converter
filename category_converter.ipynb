{
 "cells": [
  {
   "cell_type": "markdown",
   "id": "altered-viewer",
   "metadata": {},
   "source": [
    "# Woocommerce Category Converter\n",
    "This script is used to convert the categories in a Woocommerce product export csv file from an external websites categories to match our categories. \n",
    "\n",
    "I use pandas to read in the dataset and have created a dictionary to match the categories"
   ]
  },
  {
   "cell_type": "code",
   "execution_count": null,
   "id": "restricted-monitoring",
   "metadata": {},
   "outputs": [],
   "source": [
    "# import relevant packages\n",
    "import pandas as pd\n",
    "import re\n",
    "\n",
    "#import category mapping dictionary from external file\n",
    "import categories\n",
    "\n",
    "from IPython.core.display import display, HTML\n",
    "display(HTML(\"<style>.container { width:100% !important; }</style>\"))"
   ]
  },
  {
   "cell_type": "code",
   "execution_count": null,
   "id": "honey-rehabilitation",
   "metadata": {},
   "outputs": [],
   "source": [
    "# import datasets\n",
    "kkmp = pd.read_csv(\"wc-product-export-15-2-2021-1613399354650.csv\")\n",
    "ess = pd.read_csv(\"wc-product-export-26-1-2021-1611660714205.csv\")"
   ]
  },
  {
   "cell_type": "code",
   "execution_count": null,
   "id": "residential-warrant",
   "metadata": {},
   "outputs": [],
   "source": [
    "# look at kkmp columns\n",
    "kkmp.columns"
   ]
  },
  {
   "cell_type": "code",
   "execution_count": null,
   "id": "interpreted-couple",
   "metadata": {},
   "outputs": [],
   "source": [
    "# look at external site's columns\n",
    "ess.columns"
   ]
  },
  {
   "cell_type": "code",
   "execution_count": null,
   "id": "surprising-advice",
   "metadata": {},
   "outputs": [],
   "source": [
    "# look at kkmp unique categories\n",
    "kkmp.Categories.unique()"
   ]
  },
  {
   "cell_type": "code",
   "execution_count": null,
   "id": "dated-treat",
   "metadata": {},
   "outputs": [],
   "source": [
    "# look at kkmp unique categories\n",
    "ess.Categories.unique()"
   ]
  },
  {
   "cell_type": "code",
   "execution_count": null,
   "id": "emotional-assurance",
   "metadata": {},
   "outputs": [],
   "source": [
    "# convert unique categories list to list of only individual categories\n",
    "# this function returns the categories which are not yet in the mapping dictionary\n",
    "# this provides an easy way to verify if the mapping dictionary is created correctly\n",
    "def category_checker(dataset, dictionary):\n",
    "    unique_categories = dataset.Categories.unique()\n",
    "    for i in range(len(unique_categories)):\n",
    "        unique_categories[i] = re.split(r'(?<!\\\\),', unique_categories[i])\n",
    "        for j in range(len(unique_categories[i])): \n",
    "            unique_categories[i][j] = unique_categories[i][j].strip()\n",
    "\n",
    "    #ess_unique_categories\n",
    "\n",
    "    flat_list = [item for sublist in ess_unique_categories for item in sublist]\n",
    "    myset = set(flat_list)\n",
    "    individual_categories = list(myset)\n",
    "    individual_categories\n",
    "    unmapped = set(individual_categories) - set(dictionary.keys())\n",
    "    return unmapped"
   ]
  },
  {
   "cell_type": "code",
   "execution_count": null,
   "id": "dangerous-continent",
   "metadata": {},
   "outputs": [],
   "source": [
    "category_checker(ess, categories.ess_to_kkmp)"
   ]
  },
  {
   "cell_type": "code",
   "execution_count": null,
   "id": "exposed-encoding",
   "metadata": {},
   "outputs": [],
   "source": [
    "# this function reads in the mapping dictionary and sorts it based on length of keys\n",
    "# this ensures that the regex find and replace works correctly and doesnt find and replace short strings before long\n",
    "def sort_categories(dictionary):\n",
    "    sorted_categories = {}\n",
    "    for k in sorted(dictionary, key=len, reverse=True):\n",
    "        sorted_categories[k] = dictionary[k]\n",
    "    return sorted_categories"
   ]
  },
  {
   "cell_type": "code",
   "execution_count": null,
   "id": "cooked-anime",
   "metadata": {},
   "outputs": [],
   "source": [
    "# replaces values in the categories with the mapping dictionary values\n",
    "# NOTE: This replaces in place\n",
    "def replace_categories(sorted_dict, dataset):\n",
    "    dataset.Categories.replace(sorted_dict, regex=True, inplace=True)\n",
    "    \n",
    "replace_categories(sort_categories(categories.ess_to_kkmp), ess)"
   ]
  },
  {
   "cell_type": "code",
   "execution_count": null,
   "id": "northern-netscape",
   "metadata": {},
   "outputs": [],
   "source": [
    "# check categories after find and replace\n",
    "ess.Categories.unique()"
   ]
  },
  {
   "cell_type": "code",
   "execution_count": null,
   "id": "useful-landscape",
   "metadata": {},
   "outputs": [],
   "source": [
    "# export to csv\n",
    "ess.to_csv(\"converted_csv.csv\")"
   ]
  },
  {
   "cell_type": "code",
   "execution_count": 102,
   "id": "waiting-parent",
   "metadata": {},
   "outputs": [],
   "source": [
    "# create sample file to test import\n",
    "ess.head(10).to_csv(\"converted_test_csv.csv\")"
   ]
  },
  {
   "cell_type": "code",
   "execution_count": null,
   "id": "starting-pillow",
   "metadata": {},
   "outputs": [],
   "source": []
  }
 ],
 "metadata": {
  "kernelspec": {
   "display_name": "Python 3",
   "language": "python",
   "name": "python3"
  },
  "language_info": {
   "codemirror_mode": {
    "name": "ipython",
    "version": 3
   },
   "file_extension": ".py",
   "mimetype": "text/x-python",
   "name": "python",
   "nbconvert_exporter": "python",
   "pygments_lexer": "ipython3",
   "version": "3.8.5"
  }
 },
 "nbformat": 4,
 "nbformat_minor": 5
}
